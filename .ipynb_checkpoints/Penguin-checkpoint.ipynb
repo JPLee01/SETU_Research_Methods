{
 "cells": [
  {
   "cell_type": "markdown",
   "metadata": {},
   "source": [
    "<img src=\"https://upload.wikimedia.org/wikipedia/en/f/fb/SETU_Ireland_logo.png\" alt=\"SETU\" width=\"1000\"/>"
   ]
  },
  {
   "cell_type": "markdown",
   "metadata": {},
   "source": [
    "# Palmer Archipelago Penguin Data Set\n",
    "*****"
   ]
  },
  {
   "attachments": {},
   "cell_type": "markdown",
   "metadata": {},
   "source": [
    "* Author: John Paul Lee\n",
    "* Github: JPLee01\n",
    "* Email: C00244423@itcarlow.ie\n",
    "* Created: 08-11-2022, Last update: 09-11-2022\n",
    "* Research Method for Engineering: Data Analysis and Visualisation 30%.\n",
    "***\n",
    "**Lecturer:** Dr. Edmond Tobin\n",
    "\n",
    "* This Jupyter Notebook has been created to investigate the Penguin Data Set by offeing an overview, demonstration, plots and visualisations of the findings.\n",
    "\n",
    "***\n",
    "As part of the project this notebook will deal with three main tasks:\n",
    "\n",
    "1. An analysis of the 4 dependent variables within the Data Set. \n",
    "2. Execution of normality and homogeneity tests.\n",
    "3. Execution of post hoc tests.\n",
    "3. Creation of plots and visualisations as necessary."
   ]
  },
  {
   "cell_type": "markdown",
   "metadata": {},
   "source": [
    "**Table of Contents**\n",
    "------------------------------------------------------------------------------------------------\n",
    "\n",
    "[Penguin Data Set](#penguin-data-set)\n",
    "\n",
    "[1. Introduction](#1-introduction)\n",
    "\n",
    "[2. Penguin Data Set](#2-penguin-data-set)\n",
    "\n",
    "  [2.1 Background](#2.1-Background)\n",
    "\n",
    "[3. Problem Statement](#3-Problem-Statement)\n",
    "\n",
    "[4. Previous Case Studies of the Data Set](#4-Previous-Case-Studies-of-the-Data-Set)\n",
    "\n",
    "[5. Issues and Inconsistencies with Data Set](#5-Issues-and-Inconsistencies-with-Data-Set)\n",
    "\n",
    "[6. Libraries](#6-Libraries)\n",
    "\n",
    "[7. Analysis of Data Set and Results Explained](#7-Analysis-of-Data-Set-and-Results-Explained)\n",
    "\n",
    "  [7.1 Initial Analysis](#7.1-Initial-Analysis)\n",
    "\n",
    "  [7.2 Normality Analysis](#7.2-Normality-Analysis)\n",
    "\n",
    "  [7.3 Homogeneity Analysis](#7.3-Homogeneity-Analysis)\n",
    "\n",
    "  [7.4 Post Hoc Analysis](#7.4-Post-Hoc-Analysis)\n",
    "\n",
    "[8. Summary, Conclusion and Future Possibilities for the Data Set](#8-Summary,-Conclusion-and-Future-Possibilities-for-the-Data-Set)\n",
    "\n",
    "[9. References](#9-References)\n",
    "\n",
    "[10. Bibliography](#10-Bibliography)\n"
   ]
  },
  {
   "cell_type": "markdown",
   "metadata": {},
   "source": [
    "## 1 Introduction\n",
    "------------------------------------------------------------------------------------------------\n",
    "\n",
    "This analysis of Penguin Data Set has been carried out as an assignment of the Research Methods Module. The aim of this assignment is to help the student gain a practical experience in data handling, including data types and structures handling, data splicing, plots generation and interpretation."
   ]
  },
  {
   "cell_type": "markdown",
   "metadata": {},
   "source": [
    "## 2 Palmer Archipelago Penguin Iris Data Set\n",
    "------------------------------------------------------------------------------------------------\n",
    "### 2.1 Background\n",
    "The data analysed in this notebook is the Palmer Archipelago Penguin Data Set (Gorman et al., 2014).The Penguin Data Set collected from 2007 to 2009 by Dr. Kristen Gorman with the Palmer Station Long Term Ecological Research Program, part of the US Long Term Ecological Research Network (Hill et al., 2020). Body size measurements were collected for three species of Pygoscelis penguins that breed on islands throughout the Palmer Archipelago, Antarctica (Gorman et al., 2021). The three species of Pygoscelis penguins can be seen in the image below:\n",
    "\n",
    "![Penguin Species](https://education.rstudio.com/blog/2020/07/palmerpenguins-cran/gorman-penguins.jpg)\n",
    "\n",
    "Three hundred and fourty four observations of species were collected and analysed. Within each species, Gorman studied four distinct characteristics:\n",
    "\n",
    "1.  Culmen Length (Mm)\n",
    "2.  Culmen Depth (Mm)\n",
    "3.  Flipper Length (Mm)\n",
    "4.  Body Mass (G)\n",
    "\n",
    "These observations were taken over the following three islands of the Palmer Archipelago:\n",
    "1. Biscoe \n",
    "2. Dream\n",
    "3. Torgersen\n",
    "\n",
    "It should be noted that the culmen refers to the upper ridge of a bird’s bill. An image of this is seen below:\n",
    "\n",
    " ![Culmen](https://pbs.twimg.com/media/EaAXQn8U4AAoKUj.jpg:small)\n",
    " "
   ]
  },
  {
   "attachments": {},
   "cell_type": "markdown",
   "metadata": {},
   "source": [
    "##  3 Problem Statement\n",
    "------------------------------------------------------------------------------------------------\n",
    "As part of the assignment, the student was given a set of instructions. Within the instructions a problem statement was printed. It stated that this project will involve an analysis of the Palmer Archipelago Penguin Data Set. Python code will be utilised for this analysis and the student will give explanations of the python code and discuss any observations. The problem statement also explained it was required for the project to:\n",
    "\n",
    "* Produce a statistical analysis report of the data and present a series of graphs of the data that would be in a form suitable for publication in a journal paper or other formal report.\n",
    "* Analyse all 4 dependent variables. \n",
    "* Perform normality and homogeneity tests, and if required, post hoc tests.\n",
    "* The report should provide a discussion on the significance of the data and data set.\n",
    "* The student can use any statistical software that they are familiar with."
   ]
  },
  {
   "cell_type": "code",
   "execution_count": null,
   "metadata": {},
   "outputs": [],
   "source": []
  },
  {
   "cell_type": "code",
   "execution_count": null,
   "metadata": {},
   "outputs": [],
   "source": []
  },
  {
   "cell_type": "code",
   "execution_count": null,
   "metadata": {
    "scrolled": true
   },
   "outputs": [],
   "source": []
  },
  {
   "cell_type": "code",
   "execution_count": null,
   "metadata": {},
   "outputs": [],
   "source": []
  },
  {
   "cell_type": "markdown",
   "metadata": {},
   "source": [
    "##  9 References\n",
    "------------------------------------------------------------------------------------------------\n",
    "\n",
    "* Gorman, K.B. and at al. (2014). *Ecological sexual dimorphism and environmental variability within a community of Antarctic penguins (genus Pygoscelis)*. PloS one, 9(3), pp. 81-90.\n",
    "* Gorman K.B. and et al. (2021). *Advancing the Sea Ice Hypothesis: Trophic Interactions Among Breeding Pygoscelis Penguins With Divergent Population Trends Throughout the Western Antarctic Peninsula*, Frontiers in Marine Science, 8(1), pp. 1-8.\n",
    "* Hill, A. and et al., (2020). *Release the penguins*, R Studio Education [online], 27 July, availalbe: https://education.rstudio.com/blog/2020/07/palmerpenguins-cran/#meet-the-penguins [Accessed 08 November 2022]. "
   ]
  },
  {
   "cell_type": "markdown",
   "metadata": {},
   "source": [
    "##  10 Bibliography\n",
    "------------------------------------------------------------------------------------------------\n",
    "* Horst, et al. (2022). *The R Journal: Palmer Archipelago Penguins Data in the palmerpenguins R Package - An Alternative to Anderson's Irises*, The R Journal, 1(1), pp. 7-16."
   ]
  },
  {
   "cell_type": "code",
   "execution_count": null,
   "metadata": {},
   "outputs": [],
   "source": []
  }
 ],
 "metadata": {
  "kernelspec": {
   "display_name": "Python 3",
   "language": "python",
   "name": "python3"
  },
  "language_info": {
   "codemirror_mode": {
    "name": "ipython",
    "version": 3
   },
   "file_extension": ".py",
   "mimetype": "text/x-python",
   "name": "python",
   "nbconvert_exporter": "python",
   "pygments_lexer": "ipython3",
   "version": "3.8.2"
  }
 },
 "nbformat": 4,
 "nbformat_minor": 4
}
